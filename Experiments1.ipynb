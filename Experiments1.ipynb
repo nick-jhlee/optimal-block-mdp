{
 "cells": [
  {
   "cell_type": "code",
   "execution_count": 16,
   "metadata": {
    "collapsed": true,
    "pycharm": {
     "name": "#%%\n"
    }
   },
   "outputs": [],
   "source": [
    "from Clustering import *\n",
    "import matplotlib.pyplot as plt"
   ]
  },
  {
   "cell_type": "code",
   "execution_count": 17,
   "outputs": [],
   "source": [
    "num_repeats = 10"
   ],
   "metadata": {
    "collapsed": false,
    "pycharm": {
     "name": "#%%\n"
    }
   }
  },
  {
   "cell_type": "markdown",
   "source": [
    "# Experiment 1:\n",
    "Changing n, depending on the regime of TH"
   ],
   "metadata": {
    "collapsed": false,
    "pycharm": {
     "name": "#%% md\n"
    }
   }
  },
  {
   "cell_type": "code",
   "execution_count": 10,
   "outputs": [
    {
     "name": "stdout",
     "output_type": "stream",
     "text": [
      "#### n = 100, TH = n (log n)^0 ### \n",
      "\n",
      "initial:  [0.46, 0.47, 0.45, 0.48, 0.47, 0.49, 0.49, 0.48, 0.45, 0.41]\n",
      "final:  [0.5, 0.44, 0.46, 0.5, 0.5, 0.5, 0.5, 0.43, 0.46, 0.45]\n",
      "#### n = 100, TH = n (log n)^1 ### \n",
      "\n",
      "initial:  [0.49, 0.44, 0.46, 0.44, 0.48, 0.42, 0.42, 0.48, 0.42, 0.48]\n",
      "final:  [0.42, 0.48, 0.47, 0.38, 0.44, 0.39, 0.33, 0.46, 0.48, 0.48]\n",
      "#### n = 100, TH = n (log n)^2 ### \n",
      "\n",
      "initial:  [0.02, 0.06, 0.34, 0.34, 0.27, 0.37, 0.49, 0.28, 0.48, 0.47]\n",
      "final:  [0.0, 0.0, 0.01, 0.0, 0.0, 0.01, 0.11, 0.01, 0.5, 0.46]\n",
      "#### n = 120, TH = n (log n)^0 ### \n",
      "\n"
     ]
    },
    {
     "ename": "IndexError",
     "evalue": "list index out of range",
     "output_type": "error",
     "traceback": [
      "\u001B[0;31m---------------------------------------------------------------------------\u001B[0m",
      "\u001B[0;31mIndexError\u001B[0m                                Traceback (most recent call last)",
      "Input \u001B[0;32mIn [10]\u001B[0m, in \u001B[0;36m<cell line: 21>\u001B[0;34m()\u001B[0m\n\u001B[1;32m     43\u001B[0m trajectories \u001B[38;5;241m=\u001B[39m generate_trajectories(T, env)\n\u001B[1;32m     45\u001B[0m \u001B[38;5;66;03m# initial spectral clustering\u001B[39;00m\n\u001B[0;32m---> 46\u001B[0m f_1 \u001B[38;5;241m=\u001B[39m \u001B[43minit_spectral\u001B[49m\u001B[43m(\u001B[49m\u001B[43menv\u001B[49m\u001B[43m,\u001B[49m\u001B[43m \u001B[49m\u001B[43mtrajectories\u001B[49m\u001B[43m)\u001B[49m\n\u001B[1;32m     47\u001B[0m init_err_rate \u001B[38;5;241m=\u001B[39m error_rate(f, f_1, env\u001B[38;5;241m.\u001B[39mn, env\u001B[38;5;241m.\u001B[39mS)\n\u001B[1;32m     48\u001B[0m init_errors\u001B[38;5;241m.\u001B[39mappend(init_err_rate)\n",
      "File \u001B[0;32m~/Dropbox/Markovian-data/code/Clustering.py:131\u001B[0m, in \u001B[0;36minit_spectral\u001B[0;34m(env, trajectories)\u001B[0m\n\u001B[1;32m    129\u001B[0m \u001B[38;5;28;01mfor\u001B[39;00m x \u001B[38;5;129;01min\u001B[39;00m \u001B[38;5;28mrange\u001B[39m(n):\n\u001B[1;32m    130\u001B[0m     \u001B[38;5;28;01mfor\u001B[39;00m s \u001B[38;5;129;01min\u001B[39;00m \u001B[38;5;28mrange\u001B[39m(S):\n\u001B[0;32m--> 131\u001B[0m         \u001B[38;5;28;01mif\u001B[39;00m x \u001B[38;5;129;01min\u001B[39;00m \u001B[43mclusters\u001B[49m\u001B[43m[\u001B[49m\u001B[43ms\u001B[49m\u001B[43m]\u001B[49m:\n\u001B[1;32m    132\u001B[0m             f_1[x] \u001B[38;5;241m=\u001B[39m s\n\u001B[1;32m    134\u001B[0m \u001B[38;5;28;01mreturn\u001B[39;00m f_1\n",
      "\u001B[0;31mIndexError\u001B[0m: list index out of range"
     ]
    }
   ],
   "source": [
    "# range of n, number of contexts\n",
    "n_range = range(100, 200, 20)\n",
    "# n_range = range(100, 300, 20)\n",
    "# n_range = range(100, 300, 20)\n",
    "N = len(n_range)\n",
    "# us = [0, 0.5, 1, 1.5, 2]  # TH = n (log n)^u\n",
    "us = [0, 1, 2]  # TH = n (log n)^u\n",
    "# number of actions, clusters\n",
    "S, A = 2, 3\n",
    "# symmetric binary case\n",
    "eps = 0.2\n",
    "latent_transitions = [np.array([[1 / 2 - eps, 1 / 2 + eps], [1 / 2 + eps, 1 / 2 - eps]]),\n",
    "                      np.array([[1 / 2 + eps, 1 / 2 - eps], [1 / 2 - eps, 1 / 2 + eps]]),\n",
    "                      np.array([[1 / 2, 1 / 2], [1 / 2, 1 / 2]])]\n",
    "\n",
    "init_errors_mean1 = np.ones((len(us), len(n_range)))\n",
    "init_errors_std1 = np.ones((len(us), len(n_range)))\n",
    "final_errors_mean1 = np.ones((len(us), len(n_range)))\n",
    "final_errors_std1 = np.ones((len(us), len(n_range)))\n",
    "\n",
    "# main loop 1\n",
    "for j, n in enumerate(n_range):\n",
    "    # set H\n",
    "    H = int(np.ceil(n / 2))\n",
    "    # set environment\n",
    "    env_config = {'n': n, 'H': H, 'S:': S, 'A': A,\n",
    "                  'ps': latent_transitions,\n",
    "                  'qs': 'uniform'}\n",
    "    env = Synthetic(env_config)\n",
    "    # true clusters\n",
    "    f = {}\n",
    "    for s in range(env.S):\n",
    "        cluster = env.partitions[s]\n",
    "        for x in range(cluster.start, cluster.start + cluster.n):\n",
    "            f[x] = s\n",
    "    # main loop 2\n",
    "    for i, u in enumerate(us):\n",
    "        print(f\"#### n = {n}, TH = n (log n)^{u} ### \\n\")\n",
    "        # set T\n",
    "        T = int(np.ceil(n * A * (np.log(n * A) ** u)) / H)\n",
    "        init_errors, final_errors = [], []\n",
    "        for _ in range(num_repeats):\n",
    "            # obtain trajectories\n",
    "            trajectories = generate_trajectories(T, env)\n",
    "\n",
    "            # initial spectral clustering\n",
    "            f_1 = init_spectral(env, trajectories)\n",
    "            init_err_rate = error_rate(f, f_1, env.n, env.S)\n",
    "            init_errors.append(init_err_rate)\n",
    "            # print(\"Error rate after initial clustering is \", init_err_rate)\n",
    "\n",
    "            # likelihood_improvement\n",
    "            # f_final, errors = likelihood_improvement(env, trajectories, f_1, f, num_iter=10)\n",
    "            f_final, errors = likelihood_improvement(env, trajectories, f_1, f, num_iter=None)\n",
    "            final_errors.append(errors[-1])\n",
    "            # print(\"Final error rate is \", errors[-1])\n",
    "            # print(\"Errors along the improvement steps: \", errors)\n",
    "\n",
    "        print(\"initial: \", init_errors)\n",
    "        print(\"final: \", final_errors)\n",
    "        # logging\n",
    "        init_errors_mean1[i][j] = np.mean(init_errors)\n",
    "        init_errors_std1[i][j] = np.std(init_errors)\n",
    "        final_errors_mean1[i][j] = np.mean(final_errors)\n",
    "        final_errors_std1[i][j] = np.std(final_errors)"
   ],
   "metadata": {
    "collapsed": false,
    "pycharm": {
     "name": "#%%\n"
    }
   }
  },
  {
   "cell_type": "code",
   "execution_count": null,
   "outputs": [],
   "source": [
    "# FINAL PLOTS\n",
    "fig, axs = plt.subplots(len(us), sharex=True)\n",
    "fig.suptitle(\"Experiment 1: Varying n and u\")\n",
    "for i, u in enumerate(us):\n",
    "    axs[i].errorbar(n_range, init_errors_mean1[i], yerr=1.96*init_errors_std1/np.sqrt(num_repeats), marker=\"o\")\n",
    "    axs[i].errorbar(n_range, final_errors_mean1[i], yerr=1.96*final_errors_std1/np.sqrt(num_repeats), marker=\"o\")\n",
    "    axs[i].title(f\"TH = n (log n)^{u}\")\n",
    "    axs[i].legend([\"spectral\",\"spectral + improvement\"])\n",
    "    axs.xlabel(\"n\")\n",
    "    axs.ylabel(\"error rate\")\n",
    "fig.savefig(\"plot_exp1.pdf\", dpi=500)\n",
    "\n",
    "np.savez_compressed(\"exp1\", init_mean=init_errors_mean1, init_std=init_errors_std1, final_mean=final_errors_mean1, final_std=final_errors_std1)"
   ],
   "metadata": {
    "collapsed": false,
    "pycharm": {
     "name": "#%%\n"
    }
   }
  }
 ],
 "metadata": {
  "kernelspec": {
   "display_name": "Python 3",
   "language": "python",
   "name": "python3"
  },
  "language_info": {
   "codemirror_mode": {
    "name": "ipython",
    "version": 2
   },
   "file_extension": ".py",
   "mimetype": "text/x-python",
   "name": "python",
   "nbconvert_exporter": "python",
   "pygments_lexer": "ipython2",
   "version": "2.7.6"
  }
 },
 "nbformat": 4,
 "nbformat_minor": 0
}