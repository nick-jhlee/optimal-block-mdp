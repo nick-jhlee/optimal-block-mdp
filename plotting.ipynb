{
 "cells": [
  {
   "cell_type": "code",
   "execution_count": 78,
   "metadata": {
    "collapsed": true
   },
   "outputs": [],
   "source": [
    "import numpy as np\n",
    "from Experiment import *"
   ]
  },
  {
   "cell_type": "code",
   "execution_count": 93,
   "outputs": [],
   "source": [
    "data = np.load(\"raw_datas/exp2.npz\")\n",
    "dfs = data['dfs']\n",
    "# print(dfs[0])\n",
    "# n = 100\n",
    "# Hs = range(int(n / 5), n + 10, 10)\n",
    "# dfs_ = [pd.DataFrame(item, columns=[\"Init Spectral\", \"Likelihood Improvement\"]).assign(param=Hs[i]) for i, item in enumerate(dfs)]\n",
    "# plot(dfs_, 1, \"testing\")"
   ],
   "metadata": {
    "collapsed": false
   }
  },
  {
   "cell_type": "code",
   "execution_count": 94,
   "outputs": [],
   "source": [
    "def reject_outliers(data, m=3):\n",
    "    return data[abs(data - np.mean(data)) < m * np.std(data)]"
   ],
   "metadata": {
    "collapsed": false
   }
  },
  {
   "cell_type": "code",
   "execution_count": 98,
   "outputs": [],
   "source": [
    "def plot_final_discrete(final_means, final_stds, xs, title, xlabel, legends, fname):\n",
    "    fig, ax = plt.subplots()\n",
    "    clrs = sns.color_palette(\"husl\", len(legends))\n",
    "\n",
    "    with sns.axes_style(\"darkgrid\"):\n",
    "        for i, color in enumerate(clrs):\n",
    "            stds = [[final_means[i][j] if final_means[i][j] - final_stds[i][j] < 0 else final_stds[i][j], 0.5 - final_means[i][j] if final_means[i][j] + final_stds[i][j] > 0.5 else final_stds[i][j]] for j in range(len(final_means[i]))]\n",
    "            stds = np.array(stds).T\n",
    "            ax.errorbar(xs, final_means[i], yerr=stds, fmt='o', linestyle='dashed', capsize=3,\n",
    "                        label=legends[i], c=color)\n",
    "\n",
    "    ax.set_title(title)\n",
    "    ax.set_xlabel(xlabel)\n",
    "    ax.legend(loc='center left', bbox_to_anchor=(1, 0.5))\n",
    "    plt.savefig(\"exp1\", dpi=600, bbox_inches='tight')\n",
    "    # plt.show()\n",
    "    plt.close()"
   ],
   "metadata": {
    "collapsed": false
   }
  },
  {
   "cell_type": "code",
   "execution_count": 99,
   "outputs": [
    {
     "name": "stdout",
     "output_type": "stream",
     "text": [
      "0.40149 & 0.22605 & 0.0856 & 0.001023706896551724 & 0.00014830508474576273 & 9.483667017913594e-05 & 1.0537407797681771e-05 & 0.0 & 0.0 & "
     ]
    }
   ],
   "source": [
    "mean_1, mean_2 = [], []\n",
    "std_1, std_2 = [], []\n",
    "inits, finals = [], []\n",
    "\n",
    "for T in range(dfs.shape[0]):\n",
    "    init = reject_outliers(dfs[T][:,0])\n",
    "    final = reject_outliers(dfs[T][:,1])\n",
    "    # init = dfs[T][:,0]\n",
    "    # final = dfs[T][:,1]\n",
    "\n",
    "    inits.append(init)\n",
    "    finals.append(final)\n",
    "\n",
    "    mean_1.append(np.mean(init))\n",
    "    mean_2.append(np.mean(final))\n",
    "\n",
    "    std_1.append(np.std(init))\n",
    "    std_2.append(np.std(final))\n",
    "\n",
    "mean_1 = np.array(mean_1)\n",
    "mean_2 = np.array(mean_2)\n",
    "std_1 = np.array(std_1)\n",
    "std_2 = np.array(std_2)\n",
    "\n",
    "for T in range(dfs.shape[0]):\n",
    "    print(f\"{mean_2[T]} &\", end=\" \")\n",
    "\n",
    "means = [mean_1, mean_2]\n",
    "stds = [std_1, std_2]"
   ],
   "metadata": {
    "collapsed": false
   }
  },
  {
   "cell_type": "code",
   "execution_count": 100,
   "outputs": [],
   "source": [
    "plot_final_discrete(means, stds, range(20,110,10), \"Varying H (n=100, T=20, eps=0.3)\", \"H\", [\"init clustering\", \"init clustering + likelihood improvement\"], None)"
   ],
   "metadata": {
    "collapsed": false
   }
  },
  {
   "cell_type": "code",
   "execution_count": 77,
   "outputs": [
    {
     "name": "stderr",
     "output_type": "stream",
     "text": [
      "No artists with labels found to put in legend.  Note that artists whose label start with an underscore are ignored when legend() is called with no argument.\n"
     ]
    },
    {
     "data": {
      "text/plain": "<Figure size 432x288 with 1 Axes>",
      "image/png": "[encoded data removed]"
     },
     "metadata": {},
     "output_type": "display_data"
    }
   ],
   "source": [
    "fig, ax = plt.subplots()\n",
    "# clrs = sns.color_palette(\"husl\", len([\"init clustering\", \"init clustering + likelihood improvement\"]))\n",
    "\n",
    "# with sns.axes_style(\"darkgrid\"):\n",
    "ax.boxplot(inits, notch=True, whis=1.1, positions=range(1,19,2))\n",
    "ax.boxplot(finals, notch=True, whis=1.1, positions=[i+0.6 for i in range(1,19,2)])\n",
    "    # ax.boxplot(finals, notch=True, whis=1.1, positions=[i+0.25 for i in range(1,10,1)])\n",
    "\n",
    "ax.legend(loc='center left', bbox_to_anchor=(1, 0.5))\n",
    "# plt.savefig(fname, dpi=1200, bbox_inches='tight')\n",
    "plt.show()\n",
    "plt.close()"
   ],
   "metadata": {
    "collapsed": false
   }
  },
  {
   "cell_type": "code",
   "execution_count": null,
   "outputs": [],
   "source": [],
   "metadata": {
    "collapsed": false
   }
  }
 ],
 "metadata": {
  "kernelspec": {
   "display_name": "Python 3",
   "language": "python",
   "name": "python3"
  },
  "language_info": {
   "codemirror_mode": {
    "name": "ipython",
    "version": 2
   },
   "file_extension": ".py",
   "mimetype": "text/x-python",
   "name": "python",
   "nbconvert_exporter": "python",
   "pygments_lexer": "ipython2",
   "version": "2.7.6"
  }
 },
 "nbformat": 4,
 "nbformat_minor": 0
}
